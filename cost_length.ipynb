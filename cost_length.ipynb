def costLength(hydrant_i, hydrant_j)
  if hydrant_i.distance(hydrant_j) <= max_edge_length:
    return (hydrant_i.distance(hydrant_j)/max_edge_length)* x
  else:
    return 1 
