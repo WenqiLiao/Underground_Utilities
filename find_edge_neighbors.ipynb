{
  "nbformat": 4,
  "nbformat_minor": 0,
  "metadata": {
    "colab": {
      "provenance": [],
      "authorship_tag": "ABX9TyMRIIOnIPqlDTYoOZMB8P7U",
      "include_colab_link": true
    },
    "kernelspec": {
      "name": "python3",
      "display_name": "Python 3"
    },
    "language_info": {
      "name": "python"
    }
  },
  "cells": [
    {
      "cell_type": "markdown",
      "metadata": {
        "id": "view-in-github",
        "colab_type": "text"
      },
      "source": [
        "<a href=\"https://colab.research.google.com/github/WenqiLiao/Underground_Utilities/blob/main/FindEdgeNeighbors.ipynb\" target=\"_parent\"><img src=\"https://colab.research.google.com/assets/colab-badge.svg\" alt=\"Open In Colab\"/></a>"
      ]
    },
    {
      "cell_type": "code",
      "execution_count": null,
      "metadata": {
        "id": "nCX4I7VYRtBQ"
      },
      "outputs": [],
      "source": [
        "for edge in filtered_edges_cp:\n",
        "    edge_points = list(edge)\n",
        "    # print(\"X Coordinate:\", np.array(points)[edge_points, 0], \"Y Coordinate:\", np.array(points)[edge_points, 1])\n",
        "    first_vertex = (np.array(points)[edge_points, 0][0], np.array(points)[edge_points, 1][0])\n",
        "    second_vertex = (np.array(points)[edge_points, 0][1], np.array(points)[edge_points, 1][1])\n",
        "    edge_endpoint = (first_vertex, second_vertex)\n",
        "    # print(\"edge_endpoint\", edge_endpoint)\n",
        "    all_edges.append(tuple(edge_endpoint))\n",
        "\n",
        "print(\"len(all_edges)\", len(all_edges))\n",
        "\n",
        "count = 0\n",
        "neighboring_edges_adjacency_list = {}\n",
        "for edge in all_edges:\n",
        "  # print(\"edge endpoint:\", edge[1])\n",
        "  # count+=1\n",
        "  target_coordinate = edge[0]\n",
        "  for search_edge1 in all_edges:\n",
        "    if search_edge1[0] == target_coordinate or search_edge1[1] == target_coordinate:\n",
        "      if not(edge in neighboring_edges_adjacency_list):\n",
        "          # print(\"new target key created\")\n",
        "          neighboring_edges_adjacency_list[edge] = []\n",
        "      # print(\"new value added to target\")\n",
        "      neighboring_edges_adjacency_list[edge].append(search_edge1)\n",
        "      # print(\"after adding the value:\", neighboring_edges_adjacency_list[target])\n",
        "  target_coordinate = edge[1]\n",
        "  for search_edge2 in all_edges:\n",
        "    if search_edge2[0] == target_coordinate or search_edge2[1] == target_coordinate:\n",
        "      if not(edge in neighboring_edges_adjacency_list):\n",
        "          # print(\"new target key created\")\n",
        "          neighboring_edges_adjacency_list[edge] = []\n",
        "      # print(\"new value added to target\")\n",
        "      neighboring_edges_adjacency_list[edge].append(search_edge2)\n",
        "      # print(\"after adding the value:\", neighboring_edges_adjacency_list[target])\n",
        "# print(count)\n"
      ]
    }
  ]
}
