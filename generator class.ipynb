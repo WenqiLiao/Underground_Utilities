{
 "cells": [
  {
   "cell_type": "code",
   "execution_count": null,
   "id": "64606fa3",
   "metadata": {},
   "outputs": [],
   "source": [
    "# outside variable (? really outside)\n",
    "all_blocks = [] # list to save all blocks as object from block.shp\n",
    "all_roads = [] # list to save all roads as object from road.shp\n",
    "all_points = [] # list to save all points as object from point.shp"
   ]
  },
  {
   "cell_type": "code",
   "execution_count": null,
   "id": "dc141749",
   "metadata": {},
   "outputs": [],
   "source": [
    "'''\n",
    "1. after D.T, we will have:\n",
    "    - hydrant point with\n",
    "        * neighbors\n",
    "        * all possible edges\n",
    "        * pointID, blockID, roadID\n",
    "2. then it is time for network building, network building is like pruning\n",
    "'''"
   ]
  },
  {
   "cell_type": "code",
   "execution_count": null,
   "id": "fd3c9ab2",
   "metadata": {},
   "outputs": [],
   "source": [
    "# code might be useful in D.T rules\n",
    "'''\n",
    " def findAllNeigh(hydrant):\n",
    "        # find all possible neighbors of a certain point\n",
    "        for p in allPoints:\n",
    "            isCheck = checkBefore(hydrant, p) # the two points met each other before\n",
    "            isCross = crossRoad(hydrant, p) # connecting the two points will cross the center of road\n",
    "            isBlock = sameBlock(hydrant, p) # the two points are in the same block \n",
    "            if isCheck or isCross or isBlock:\n",
    "                continue\n",
    "            hydrant.neighbor.append(p)\n",
    "'''"
   ]
  },
  {
   "cell_type": "code",
   "execution_count": null,
   "id": "506d96d5",
   "metadata": {},
   "outputs": [],
   "source": [
    "class HydrantGenerator:\n",
    "    \n",
    "    def __init__(self, p): # constructor\n",
    "        \n",
    "        # From point.shp\n",
    "        self.pointID = p.pointID\n",
    "        self.x = p.x\n",
    "        self.y = p.y\n",
    "        \n",
    "        # From block.shp\n",
    "        self.blockID = 0 \n",
    "        \n",
    "        # From road.shp\n",
    "        self.roadID = 0\n",
    "        \n",
    "        # Will initialize once into network generation\n",
    "        self.branchID = 0\n",
    "        self.neighbor = [] # List to store all the neighbors of this hydrant\n",
    "        self.edge = {} # Dict to store edge information\n",
    "    \n",
    "    def block_identify():\n",
    "        \n",
    "        '''\n",
    "        to be implemented:\n",
    "            - find the block in which the hydrant is located\n",
    "                - maybe using LOOP\n",
    "            - attributes that might be used\n",
    "                - hydrant coordinate\n",
    "                - block coordinate\n",
    "            - once the block is found, set blockID of current hydrant\n",
    "        '''\n",
    "        \n",
    "    def road_identify():\n",
    "        \n",
    "        '''\n",
    "        to be implemented:\n",
    "            - find the road in which the hydrant is located\n",
    "                - maybe using LOOP\n",
    "                - maybe some method to find nearest road center\n",
    "            - attributes that might be used\n",
    "                - hydrant coordinate\n",
    "                - road center coordinate [but how to?]\n",
    "            - once the road is found, set roadID of current hydrant\n",
    "        '''"
   ]
  },
  {
   "cell_type": "code",
   "execution_count": null,
   "id": "105ad993",
   "metadata": {},
   "outputs": [],
   "source": [
    "class EdgeGenerator:\n",
    "    def __init__(self, p1, p2):\n",
    "        self.p1 = p1\n",
    "        self.p2 = p2\n",
    "        self.cost = 0\n",
    "        self.branchID = 0"
   ]
  },
  {
   "cell_type": "code",
   "execution_count": null,
   "id": "2faee814",
   "metadata": {},
   "outputs": [],
   "source": [
    "class NetworkGenerator:\n",
    "    def __init__(self):\n",
    "        self.allPoints = all_points # List to store all points\n",
    "        self.NetWk = []  # List to store network branches\n",
    "    def getEdge(p_a, p_b): # input are points\n",
    "        # each time a O(n) loop? that is crazy\n",
    "        # why we dont incorparate network building into Delaunay\n",
    "        # is there any O(1) pointer in python\n",
    "        for e in p_a.edge():\n",
    "            if e.p1 == p_b or e.p2 == p_b\n",
    "                return e\n",
    "    def computeCost(e): # input is edge \n",
    "        '''\n",
    "        to be implemented:\n",
    "            - cost computation based on\n",
    "                * distance\n",
    "                * angle\n",
    "            - remember to save the cost for future use\n",
    "        '''"
   ]
  }
 ],
 "metadata": {
  "kernelspec": {
   "display_name": "Python 3 (ipykernel)",
   "language": "python",
   "name": "python3"
  },
  "language_info": {
   "codemirror_mode": {
    "name": "ipython",
    "version": 3
   },
   "file_extension": ".py",
   "mimetype": "text/x-python",
   "name": "python",
   "nbconvert_exporter": "python",
   "pygments_lexer": "ipython3",
   "version": "3.9.1"
  }
 },
 "nbformat": 4,
 "nbformat_minor": 5
}
