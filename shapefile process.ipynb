{
 "cells": [
  {
   "cell_type": "code",
   "execution_count": 27,
   "id": "f0d540e6",
   "metadata": {
    "scrolled": true
   },
   "outputs": [],
   "source": [
    "import geopandas as gpd\n",
    "from shapely.ops import linemerge\n",
    "from shapely.wkt import loads\n",
    "from shapely.geometry import LineString"
   ]
  },
  {
   "cell_type": "markdown",
   "id": "de25aa22",
   "metadata": {},
   "source": [
    "-----point file-----"
   ]
  },
  {
   "cell_type": "code",
   "execution_count": 45,
   "id": "ec88daf4",
   "metadata": {},
   "outputs": [],
   "source": [
    "df_point = gpd.read_file('hydrant_location/hydrant_location.shp')"
   ]
  },
  {
   "cell_type": "code",
   "execution_count": 46,
   "id": "04d36161",
   "metadata": {},
   "outputs": [
    {
     "data": {
      "text/html": [
       "<div>\n",
       "<style scoped>\n",
       "    .dataframe tbody tr th:only-of-type {\n",
       "        vertical-align: middle;\n",
       "    }\n",
       "\n",
       "    .dataframe tbody tr th {\n",
       "        vertical-align: top;\n",
       "    }\n",
       "\n",
       "    .dataframe thead th {\n",
       "        text-align: right;\n",
       "    }\n",
       "</style>\n",
       "<table border=\"1\" class=\"dataframe\">\n",
       "  <thead>\n",
       "    <tr style=\"text-align: right;\">\n",
       "      <th></th>\n",
       "      <th>id</th>\n",
       "      <th>geometry</th>\n",
       "    </tr>\n",
       "  </thead>\n",
       "  <tbody>\n",
       "    <tr>\n",
       "      <th>0</th>\n",
       "      <td>NaN</td>\n",
       "      <td>POINT (-74.00698 40.74748)</td>\n",
       "    </tr>\n",
       "    <tr>\n",
       "      <th>1</th>\n",
       "      <td>NaN</td>\n",
       "      <td>POINT (-74.00722 40.74722)</td>\n",
       "    </tr>\n",
       "    <tr>\n",
       "      <th>2</th>\n",
       "      <td>NaN</td>\n",
       "      <td>POINT (-74.00721 40.74697)</td>\n",
       "    </tr>\n",
       "    <tr>\n",
       "      <th>3</th>\n",
       "      <td>NaN</td>\n",
       "      <td>POINT (-74.00722 40.74722)</td>\n",
       "    </tr>\n",
       "    <tr>\n",
       "      <th>4</th>\n",
       "      <td>NaN</td>\n",
       "      <td>POINT (-74.00728 40.74667)</td>\n",
       "    </tr>\n",
       "    <tr>\n",
       "      <th>...</th>\n",
       "      <td>...</td>\n",
       "      <td>...</td>\n",
       "    </tr>\n",
       "    <tr>\n",
       "      <th>2295</th>\n",
       "      <td>NaN</td>\n",
       "      <td>POINT (-73.97976 40.71559)</td>\n",
       "    </tr>\n",
       "    <tr>\n",
       "      <th>2296</th>\n",
       "      <td>NaN</td>\n",
       "      <td>POINT (-73.97987 40.71361)</td>\n",
       "    </tr>\n",
       "    <tr>\n",
       "      <th>2297</th>\n",
       "      <td>NaN</td>\n",
       "      <td>POINT (-73.98387 40.72077)</td>\n",
       "    </tr>\n",
       "    <tr>\n",
       "      <th>2298</th>\n",
       "      <td>NaN</td>\n",
       "      <td>POINT (-73.97780 40.71833)</td>\n",
       "    </tr>\n",
       "    <tr>\n",
       "      <th>2299</th>\n",
       "      <td>NaN</td>\n",
       "      <td>POINT (-73.99446 40.72987)</td>\n",
       "    </tr>\n",
       "  </tbody>\n",
       "</table>\n",
       "<p>2300 rows × 2 columns</p>\n",
       "</div>"
      ],
      "text/plain": [
       "      id                    geometry\n",
       "0    NaN  POINT (-74.00698 40.74748)\n",
       "1    NaN  POINT (-74.00722 40.74722)\n",
       "2    NaN  POINT (-74.00721 40.74697)\n",
       "3    NaN  POINT (-74.00722 40.74722)\n",
       "4    NaN  POINT (-74.00728 40.74667)\n",
       "...   ..                         ...\n",
       "2295 NaN  POINT (-73.97976 40.71559)\n",
       "2296 NaN  POINT (-73.97987 40.71361)\n",
       "2297 NaN  POINT (-73.98387 40.72077)\n",
       "2298 NaN  POINT (-73.97780 40.71833)\n",
       "2299 NaN  POINT (-73.99446 40.72987)\n",
       "\n",
       "[2300 rows x 2 columns]"
      ]
     },
     "execution_count": 46,
     "metadata": {},
     "output_type": "execute_result"
    }
   ],
   "source": [
    "df_point"
   ]
  },
  {
   "cell_type": "markdown",
   "id": "ceff5674",
   "metadata": {},
   "source": [
    "-----road file-----"
   ]
  },
  {
   "cell_type": "code",
   "execution_count": 17,
   "id": "5f3c58c3",
   "metadata": {},
   "outputs": [],
   "source": [
    "df_road = gpd.read_file('road_location/road_location.shp')"
   ]
  },
  {
   "cell_type": "code",
   "execution_count": 19,
   "id": "124ef461",
   "metadata": {},
   "outputs": [],
   "source": [
    "df_road.drop('road_id', axis=1, inplace=True)"
   ]
  },
  {
   "cell_type": "code",
   "execution_count": 36,
   "id": "50e1ba7e",
   "metadata": {
    "scrolled": true
   },
   "outputs": [
    {
     "data": {
      "text/html": [
       "<div>\n",
       "<style scoped>\n",
       "    .dataframe tbody tr th:only-of-type {\n",
       "        vertical-align: middle;\n",
       "    }\n",
       "\n",
       "    .dataframe tbody tr th {\n",
       "        vertical-align: top;\n",
       "    }\n",
       "\n",
       "    .dataframe thead th {\n",
       "        text-align: right;\n",
       "    }\n",
       "</style>\n",
       "<table border=\"1\" class=\"dataframe\">\n",
       "  <thead>\n",
       "    <tr style=\"text-align: right;\">\n",
       "      <th></th>\n",
       "      <th>id</th>\n",
       "      <th>geometry</th>\n",
       "    </tr>\n",
       "  </thead>\n",
       "  <tbody>\n",
       "    <tr>\n",
       "      <th>0</th>\n",
       "      <td>1</td>\n",
       "      <td>LINESTRING (-74.01301 40.70215, -74.01167 40.7...</td>\n",
       "    </tr>\n",
       "    <tr>\n",
       "      <th>1</th>\n",
       "      <td>1</td>\n",
       "      <td>LINESTRING (-74.01171 40.70247, -74.00999 40.7...</td>\n",
       "    </tr>\n",
       "    <tr>\n",
       "      <th>2</th>\n",
       "      <td>1</td>\n",
       "      <td>LINESTRING (-74.00577 40.70566, -74.00396 40.7...</td>\n",
       "    </tr>\n",
       "    <tr>\n",
       "      <th>3</th>\n",
       "      <td>1</td>\n",
       "      <td>LINESTRING (-74.00385 40.70651, -74.00142 40.7...</td>\n",
       "    </tr>\n",
       "    <tr>\n",
       "      <th>4</th>\n",
       "      <td>2</td>\n",
       "      <td>LINESTRING (-74.01270 40.70275, -74.01180 40.7...</td>\n",
       "    </tr>\n",
       "    <tr>\n",
       "      <th>...</th>\n",
       "      <td>...</td>\n",
       "      <td>...</td>\n",
       "    </tr>\n",
       "    <tr>\n",
       "      <th>331</th>\n",
       "      <td>248</td>\n",
       "      <td>LINESTRING (-73.99741 40.72164, -73.99389 40.7...</td>\n",
       "    </tr>\n",
       "    <tr>\n",
       "      <th>332</th>\n",
       "      <td>249</td>\n",
       "      <td>LINESTRING (-74.00203 40.71159, -74.00252 40.7...</td>\n",
       "    </tr>\n",
       "    <tr>\n",
       "      <th>333</th>\n",
       "      <td>250</td>\n",
       "      <td>LINESTRING (-74.00296 40.71334, -74.00150 40.7...</td>\n",
       "    </tr>\n",
       "    <tr>\n",
       "      <th>334</th>\n",
       "      <td>251</td>\n",
       "      <td>LINESTRING (-74.00799 40.70899, -74.00720 40.7...</td>\n",
       "    </tr>\n",
       "    <tr>\n",
       "      <th>335</th>\n",
       "      <td>252</td>\n",
       "      <td>LINESTRING (-74.01411 40.70697, -74.01368 40.7...</td>\n",
       "    </tr>\n",
       "  </tbody>\n",
       "</table>\n",
       "<p>336 rows × 2 columns</p>\n",
       "</div>"
      ],
      "text/plain": [
       "      id                                           geometry\n",
       "0      1  LINESTRING (-74.01301 40.70215, -74.01167 40.7...\n",
       "1      1  LINESTRING (-74.01171 40.70247, -74.00999 40.7...\n",
       "2      1  LINESTRING (-74.00577 40.70566, -74.00396 40.7...\n",
       "3      1  LINESTRING (-74.00385 40.70651, -74.00142 40.7...\n",
       "4      2  LINESTRING (-74.01270 40.70275, -74.01180 40.7...\n",
       "..   ...                                                ...\n",
       "331  248  LINESTRING (-73.99741 40.72164, -73.99389 40.7...\n",
       "332  249  LINESTRING (-74.00203 40.71159, -74.00252 40.7...\n",
       "333  250  LINESTRING (-74.00296 40.71334, -74.00150 40.7...\n",
       "334  251  LINESTRING (-74.00799 40.70899, -74.00720 40.7...\n",
       "335  252  LINESTRING (-74.01411 40.70697, -74.01368 40.7...\n",
       "\n",
       "[336 rows x 2 columns]"
      ]
     },
     "execution_count": 36,
     "metadata": {},
     "output_type": "execute_result"
    }
   ],
   "source": [
    "df_road"
   ]
  },
  {
   "cell_type": "code",
   "execution_count": 35,
   "id": "0873fff1",
   "metadata": {
    "scrolled": true
   },
   "outputs": [
    {
     "data": {
      "image/svg+xml": [
       "<svg xmlns=\"http://www.w3.org/2000/svg\" xmlns:xlink=\"http://www.w3.org/1999/xlink\" width=\"100.0\" height=\"100.0\" viewBox=\"-74.01194928312096 40.702234566974674 0.006428901707081991 0.0036739392369469215\" preserveAspectRatio=\"xMinYMin meet\"><g transform=\"matrix(1,0,0,-1,0,81.4081430731863)\"><polyline fill=\"none\" stroke=\"#66cc99\" stroke-width=\"0.0001285780341416398\" points=\"-74.01171117565032,40.7024726744453 -74.00998932410648,40.70278014793527 -74.00575848888451,40.70567039874099\" opacity=\"0.8\" /></g></svg>"
      ],
      "text/plain": [
       "<LINESTRING (-74.012 40.702, -74.01 40.703, -74.006 40.706)>"
      ]
     },
     "execution_count": 35,
     "metadata": {},
     "output_type": "execute_result"
    }
   ],
   "source": [
    "df_road.iloc[1][1]"
   ]
  },
  {
   "cell_type": "code",
   "execution_count": 33,
   "id": "d05df420",
   "metadata": {},
   "outputs": [],
   "source": [
    "merged_line_string = linemerge([df_road.iloc[1][1], df_road.iloc[0][1]])"
   ]
  },
  {
   "cell_type": "code",
   "execution_count": 34,
   "id": "02e04f72",
   "metadata": {},
   "outputs": [
    {
     "data": {
      "image/svg+xml": [
       "<svg xmlns=\"http://www.w3.org/2000/svg\" xmlns:xlink=\"http://www.w3.org/1999/xlink\" width=\"100.0\" height=\"100.0\" viewBox=\"-74.01330511822232 40.7018626470412 0.007836884312339976 0.00409800667431881\" preserveAspectRatio=\"xMinYMin meet\"><g transform=\"matrix(1,0,0,-1,0,81.40782330075672)\"><g><polyline fill=\"none\" stroke=\"#66cc99\" stroke-width=\"0.0001567376862467995\" points=\"-74.01301486324779,40.70215290201573 -74.01167427883152,40.702484973384905\" opacity=\"0.8\" /><polyline fill=\"none\" stroke=\"#66cc99\" stroke-width=\"0.0001567376862467995\" points=\"-74.01171117565032,40.7024726744453 -74.00998932410648,40.70278014793527 -74.00575848888451,40.70567039874099\" opacity=\"0.8\" /></g></g></svg>"
      ],
      "text/plain": [
       "<MULTILINESTRING ((-74.013 40.702, -74.012 40.702), (-74.012 40.702, -74.01 ...>"
      ]
     },
     "execution_count": 34,
     "metadata": {},
     "output_type": "execute_result"
    }
   ],
   "source": [
    "merged_line_string"
   ]
  },
  {
   "cell_type": "code",
   "execution_count": 39,
   "id": "057a6682",
   "metadata": {},
   "outputs": [],
   "source": [
    "def merge_linestrings(group):\n",
    "    return linemerge(group.tolist())"
   ]
  },
  {
   "cell_type": "code",
   "execution_count": 41,
   "id": "053b1d22",
   "metadata": {},
   "outputs": [],
   "source": [
    "merged_gdf_road= df_road.groupby('id')['geometry'].apply(merge_linestrings).reset_index()"
   ]
  },
  {
   "cell_type": "code",
   "execution_count": 43,
   "id": "eb65e5f7",
   "metadata": {},
   "outputs": [
    {
     "data": {
      "text/html": [
       "<div>\n",
       "<style scoped>\n",
       "    .dataframe tbody tr th:only-of-type {\n",
       "        vertical-align: middle;\n",
       "    }\n",
       "\n",
       "    .dataframe tbody tr th {\n",
       "        vertical-align: top;\n",
       "    }\n",
       "\n",
       "    .dataframe thead th {\n",
       "        text-align: right;\n",
       "    }\n",
       "</style>\n",
       "<table border=\"1\" class=\"dataframe\">\n",
       "  <thead>\n",
       "    <tr style=\"text-align: right;\">\n",
       "      <th></th>\n",
       "      <th>id</th>\n",
       "      <th>geometry</th>\n",
       "    </tr>\n",
       "  </thead>\n",
       "  <tbody>\n",
       "    <tr>\n",
       "      <th>0</th>\n",
       "      <td>1</td>\n",
       "      <td>MULTILINESTRING ((-74.01301 40.70215, -74.0116...</td>\n",
       "    </tr>\n",
       "    <tr>\n",
       "      <th>1</th>\n",
       "      <td>2</td>\n",
       "      <td>MULTILINESTRING ((-74.01270 40.70275, -74.0118...</td>\n",
       "    </tr>\n",
       "    <tr>\n",
       "      <th>2</th>\n",
       "      <td>3</td>\n",
       "      <td>MULTILINESTRING ((-74.01274 40.70146, -74.0098...</td>\n",
       "    </tr>\n",
       "    <tr>\n",
       "      <th>3</th>\n",
       "      <td>4</td>\n",
       "      <td>LINESTRING (-74.00029 40.71119, -74.00045 40.7...</td>\n",
       "    </tr>\n",
       "    <tr>\n",
       "      <th>4</th>\n",
       "      <td>5</td>\n",
       "      <td>LINESTRING (-73.99137 40.72726, -73.99139 40.7...</td>\n",
       "    </tr>\n",
       "    <tr>\n",
       "      <th>...</th>\n",
       "      <td>...</td>\n",
       "      <td>...</td>\n",
       "    </tr>\n",
       "    <tr>\n",
       "      <th>245</th>\n",
       "      <td>248</td>\n",
       "      <td>LINESTRING (-73.99741 40.72164, -73.99389 40.7...</td>\n",
       "    </tr>\n",
       "    <tr>\n",
       "      <th>246</th>\n",
       "      <td>249</td>\n",
       "      <td>LINESTRING (-74.00203 40.71159, -74.00252 40.7...</td>\n",
       "    </tr>\n",
       "    <tr>\n",
       "      <th>247</th>\n",
       "      <td>250</td>\n",
       "      <td>LINESTRING (-74.00296 40.71334, -74.00150 40.7...</td>\n",
       "    </tr>\n",
       "    <tr>\n",
       "      <th>248</th>\n",
       "      <td>251</td>\n",
       "      <td>LINESTRING (-74.00799 40.70899, -74.00720 40.7...</td>\n",
       "    </tr>\n",
       "    <tr>\n",
       "      <th>249</th>\n",
       "      <td>252</td>\n",
       "      <td>LINESTRING (-74.01411 40.70697, -74.01368 40.7...</td>\n",
       "    </tr>\n",
       "  </tbody>\n",
       "</table>\n",
       "<p>250 rows × 2 columns</p>\n",
       "</div>"
      ],
      "text/plain": [
       "      id                                           geometry\n",
       "0      1  MULTILINESTRING ((-74.01301 40.70215, -74.0116...\n",
       "1      2  MULTILINESTRING ((-74.01270 40.70275, -74.0118...\n",
       "2      3  MULTILINESTRING ((-74.01274 40.70146, -74.0098...\n",
       "3      4  LINESTRING (-74.00029 40.71119, -74.00045 40.7...\n",
       "4      5  LINESTRING (-73.99137 40.72726, -73.99139 40.7...\n",
       "..   ...                                                ...\n",
       "245  248  LINESTRING (-73.99741 40.72164, -73.99389 40.7...\n",
       "246  249  LINESTRING (-74.00203 40.71159, -74.00252 40.7...\n",
       "247  250  LINESTRING (-74.00296 40.71334, -74.00150 40.7...\n",
       "248  251  LINESTRING (-74.00799 40.70899, -74.00720 40.7...\n",
       "249  252  LINESTRING (-74.01411 40.70697, -74.01368 40.7...\n",
       "\n",
       "[250 rows x 2 columns]"
      ]
     },
     "execution_count": 43,
     "metadata": {},
     "output_type": "execute_result"
    }
   ],
   "source": [
    "merged_gdf_road"
   ]
  },
  {
   "cell_type": "code",
   "execution_count": null,
   "id": "8c497778",
   "metadata": {},
   "outputs": [],
   "source": []
  }
 ],
 "metadata": {
  "kernelspec": {
   "display_name": "Python 3 (ipykernel)",
   "language": "python",
   "name": "python3"
  },
  "language_info": {
   "codemirror_mode": {
    "name": "ipython",
    "version": 3
   },
   "file_extension": ".py",
   "mimetype": "text/x-python",
   "name": "python",
   "nbconvert_exporter": "python",
   "pygments_lexer": "ipython3",
   "version": "3.9.1"
  }
 },
 "nbformat": 4,
 "nbformat_minor": 5
}
