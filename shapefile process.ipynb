{
 "cells": [
  {
   "cell_type": "code",
   "execution_count": 50,
   "id": "1808ca85",
   "metadata": {
    "scrolled": true
   },
   "outputs": [],
   "source": [
    "import geopandas as gpd\n",
    "from shapely.ops import linemerge\n",
    "from shapely.wkt import loads\n",
    "from shapely.geometry import LineString"
   ]
  },
  {
   "cell_type": "markdown",
   "id": "f3dfae9d",
   "metadata": {},
   "source": [
    "-----point file-----"
   ]
  },
  {
   "cell_type": "code",
   "execution_count": 45,
   "id": "efa9843b",
   "metadata": {},
   "outputs": [],
   "source": [
    "df_point = gpd.read_file('hydrant_location/hydrant_location.shp')"
   ]
  },
  {
   "cell_type": "code",
   "execution_count": 48,
   "id": "0a6b897d",
   "metadata": {},
   "outputs": [],
   "source": [
    "df_point['id'] = df_point.reset_index().index"
   ]
  },
  {
   "cell_type": "code",
   "execution_count": 49,
   "id": "d0a4d970",
   "metadata": {},
   "outputs": [
    {
     "data": {
      "text/html": [
       "<div>\n",
       "<style scoped>\n",
       "    .dataframe tbody tr th:only-of-type {\n",
       "        vertical-align: middle;\n",
       "    }\n",
       "\n",
       "    .dataframe tbody tr th {\n",
       "        vertical-align: top;\n",
       "    }\n",
       "\n",
       "    .dataframe thead th {\n",
       "        text-align: right;\n",
       "    }\n",
       "</style>\n",
       "<table border=\"1\" class=\"dataframe\">\n",
       "  <thead>\n",
       "    <tr style=\"text-align: right;\">\n",
       "      <th></th>\n",
       "      <th>id</th>\n",
       "      <th>geometry</th>\n",
       "    </tr>\n",
       "  </thead>\n",
       "  <tbody>\n",
       "    <tr>\n",
       "      <th>0</th>\n",
       "      <td>0</td>\n",
       "      <td>POINT (-74.00698 40.74748)</td>\n",
       "    </tr>\n",
       "    <tr>\n",
       "      <th>1</th>\n",
       "      <td>1</td>\n",
       "      <td>POINT (-74.00722 40.74722)</td>\n",
       "    </tr>\n",
       "    <tr>\n",
       "      <th>2</th>\n",
       "      <td>2</td>\n",
       "      <td>POINT (-74.00721 40.74697)</td>\n",
       "    </tr>\n",
       "    <tr>\n",
       "      <th>3</th>\n",
       "      <td>3</td>\n",
       "      <td>POINT (-74.00722 40.74722)</td>\n",
       "    </tr>\n",
       "    <tr>\n",
       "      <th>4</th>\n",
       "      <td>4</td>\n",
       "      <td>POINT (-74.00728 40.74667)</td>\n",
       "    </tr>\n",
       "    <tr>\n",
       "      <th>...</th>\n",
       "      <td>...</td>\n",
       "      <td>...</td>\n",
       "    </tr>\n",
       "    <tr>\n",
       "      <th>2295</th>\n",
       "      <td>2295</td>\n",
       "      <td>POINT (-73.97976 40.71559)</td>\n",
       "    </tr>\n",
       "    <tr>\n",
       "      <th>2296</th>\n",
       "      <td>2296</td>\n",
       "      <td>POINT (-73.97987 40.71361)</td>\n",
       "    </tr>\n",
       "    <tr>\n",
       "      <th>2297</th>\n",
       "      <td>2297</td>\n",
       "      <td>POINT (-73.98387 40.72077)</td>\n",
       "    </tr>\n",
       "    <tr>\n",
       "      <th>2298</th>\n",
       "      <td>2298</td>\n",
       "      <td>POINT (-73.97780 40.71833)</td>\n",
       "    </tr>\n",
       "    <tr>\n",
       "      <th>2299</th>\n",
       "      <td>2299</td>\n",
       "      <td>POINT (-73.99446 40.72987)</td>\n",
       "    </tr>\n",
       "  </tbody>\n",
       "</table>\n",
       "<p>2300 rows × 2 columns</p>\n",
       "</div>"
      ],
      "text/plain": [
       "        id                    geometry\n",
       "0        0  POINT (-74.00698 40.74748)\n",
       "1        1  POINT (-74.00722 40.74722)\n",
       "2        2  POINT (-74.00721 40.74697)\n",
       "3        3  POINT (-74.00722 40.74722)\n",
       "4        4  POINT (-74.00728 40.74667)\n",
       "...    ...                         ...\n",
       "2295  2295  POINT (-73.97976 40.71559)\n",
       "2296  2296  POINT (-73.97987 40.71361)\n",
       "2297  2297  POINT (-73.98387 40.72077)\n",
       "2298  2298  POINT (-73.97780 40.71833)\n",
       "2299  2299  POINT (-73.99446 40.72987)\n",
       "\n",
       "[2300 rows x 2 columns]"
      ]
     },
     "execution_count": 49,
     "metadata": {},
     "output_type": "execute_result"
    }
   ],
   "source": [
    "df_point"
   ]
  },
  {
   "cell_type": "markdown",
   "id": "bc34dfb5",
   "metadata": {},
   "source": [
    "-----road file-----"
   ]
  },
  {
   "cell_type": "code",
   "execution_count": 17,
   "id": "d910fc2a",
   "metadata": {},
   "outputs": [],
   "source": [
    "df_road = gpd.read_file('road_location/road_location.shp')"
   ]
  },
  {
   "cell_type": "code",
   "execution_count": 19,
   "id": "a2d95cf7",
   "metadata": {},
   "outputs": [],
   "source": [
    "df_road.drop('road_id', axis=1, inplace=True)"
   ]
  },
  {
   "cell_type": "code",
   "execution_count": 36,
   "id": "2dff330e",
   "metadata": {
    "scrolled": true
   },
   "outputs": [
    {
     "data": {
      "text/html": [
       "<div>\n",
       "<style scoped>\n",
       "    .dataframe tbody tr th:only-of-type {\n",
       "        vertical-align: middle;\n",
       "    }\n",
       "\n",
       "    .dataframe tbody tr th {\n",
       "        vertical-align: top;\n",
       "    }\n",
       "\n",
       "    .dataframe thead th {\n",
       "        text-align: right;\n",
       "    }\n",
       "</style>\n",
       "<table border=\"1\" class=\"dataframe\">\n",
       "  <thead>\n",
       "    <tr style=\"text-align: right;\">\n",
       "      <th></th>\n",
       "      <th>id</th>\n",
       "      <th>geometry</th>\n",
       "    </tr>\n",
       "  </thead>\n",
       "  <tbody>\n",
       "    <tr>\n",
       "      <th>0</th>\n",
       "      <td>1</td>\n",
       "      <td>LINESTRING (-74.01301 40.70215, -74.01167 40.7...</td>\n",
       "    </tr>\n",
       "    <tr>\n",
       "      <th>1</th>\n",
       "      <td>1</td>\n",
       "      <td>LINESTRING (-74.01171 40.70247, -74.00999 40.7...</td>\n",
       "    </tr>\n",
       "    <tr>\n",
       "      <th>2</th>\n",
       "      <td>1</td>\n",
       "      <td>LINESTRING (-74.00577 40.70566, -74.00396 40.7...</td>\n",
       "    </tr>\n",
       "    <tr>\n",
       "      <th>3</th>\n",
       "      <td>1</td>\n",
       "      <td>LINESTRING (-74.00385 40.70651, -74.00142 40.7...</td>\n",
       "    </tr>\n",
       "    <tr>\n",
       "      <th>4</th>\n",
       "      <td>2</td>\n",
       "      <td>LINESTRING (-74.01270 40.70275, -74.01180 40.7...</td>\n",
       "    </tr>\n",
       "    <tr>\n",
       "      <th>...</th>\n",
       "      <td>...</td>\n",
       "      <td>...</td>\n",
       "    </tr>\n",
       "    <tr>\n",
       "      <th>331</th>\n",
       "      <td>248</td>\n",
       "      <td>LINESTRING (-73.99741 40.72164, -73.99389 40.7...</td>\n",
       "    </tr>\n",
       "    <tr>\n",
       "      <th>332</th>\n",
       "      <td>249</td>\n",
       "      <td>LINESTRING (-74.00203 40.71159, -74.00252 40.7...</td>\n",
       "    </tr>\n",
       "    <tr>\n",
       "      <th>333</th>\n",
       "      <td>250</td>\n",
       "      <td>LINESTRING (-74.00296 40.71334, -74.00150 40.7...</td>\n",
       "    </tr>\n",
       "    <tr>\n",
       "      <th>334</th>\n",
       "      <td>251</td>\n",
       "      <td>LINESTRING (-74.00799 40.70899, -74.00720 40.7...</td>\n",
       "    </tr>\n",
       "    <tr>\n",
       "      <th>335</th>\n",
       "      <td>252</td>\n",
       "      <td>LINESTRING (-74.01411 40.70697, -74.01368 40.7...</td>\n",
       "    </tr>\n",
       "  </tbody>\n",
       "</table>\n",
       "<p>336 rows × 2 columns</p>\n",
       "</div>"
      ],
      "text/plain": [
       "      id                                           geometry\n",
       "0      1  LINESTRING (-74.01301 40.70215, -74.01167 40.7...\n",
       "1      1  LINESTRING (-74.01171 40.70247, -74.00999 40.7...\n",
       "2      1  LINESTRING (-74.00577 40.70566, -74.00396 40.7...\n",
       "3      1  LINESTRING (-74.00385 40.70651, -74.00142 40.7...\n",
       "4      2  LINESTRING (-74.01270 40.70275, -74.01180 40.7...\n",
       "..   ...                                                ...\n",
       "331  248  LINESTRING (-73.99741 40.72164, -73.99389 40.7...\n",
       "332  249  LINESTRING (-74.00203 40.71159, -74.00252 40.7...\n",
       "333  250  LINESTRING (-74.00296 40.71334, -74.00150 40.7...\n",
       "334  251  LINESTRING (-74.00799 40.70899, -74.00720 40.7...\n",
       "335  252  LINESTRING (-74.01411 40.70697, -74.01368 40.7...\n",
       "\n",
       "[336 rows x 2 columns]"
      ]
     },
     "execution_count": 36,
     "metadata": {},
     "output_type": "execute_result"
    }
   ],
   "source": [
    "df_road"
   ]
  },
  {
   "cell_type": "code",
   "execution_count": 35,
   "id": "49dbeb1d",
   "metadata": {
    "scrolled": true
   },
   "outputs": [
    {
     "data": {
      "image/svg+xml": [
       "<svg xmlns=\"http://www.w3.org/2000/svg\" xmlns:xlink=\"http://www.w3.org/1999/xlink\" width=\"100.0\" height=\"100.0\" viewBox=\"-74.01194928312096 40.702234566974674 0.006428901707081991 0.0036739392369469215\" preserveAspectRatio=\"xMinYMin meet\"><g transform=\"matrix(1,0,0,-1,0,81.4081430731863)\"><polyline fill=\"none\" stroke=\"#66cc99\" stroke-width=\"0.0001285780341416398\" points=\"-74.01171117565032,40.7024726744453 -74.00998932410648,40.70278014793527 -74.00575848888451,40.70567039874099\" opacity=\"0.8\" /></g></svg>"
      ],
      "text/plain": [
       "<LINESTRING (-74.012 40.702, -74.01 40.703, -74.006 40.706)>"
      ]
     },
     "execution_count": 35,
     "metadata": {},
     "output_type": "execute_result"
    }
   ],
   "source": [
    "df_road.iloc[1][1]"
   ]
  },
  {
   "cell_type": "markdown",
   "id": "81a012dd",
   "metadata": {},
   "source": [
    "-----calculate distance between road and point-----"
   ]
  },
  {
   "cell_type": "code",
   "execution_count": 70,
   "id": "70d055e2",
   "metadata": {},
   "outputs": [],
   "source": [
    "def find_closest_road(point, roads_df):\n",
    "    min_distance = float('inf')\n",
    "    closest_road_id = None\n",
    "\n",
    "    for idx, road in roads_df.iterrows():\n",
    "        distance = point.distance(road['geometry'])\n",
    "        if distance < min_distance:\n",
    "            min_distance = distance\n",
    "            closest_road_id = road['id']\n",
    "\n",
    "    return closest_road_id"
   ]
  },
  {
   "cell_type": "code",
   "execution_count": 72,
   "id": "a6647816",
   "metadata": {},
   "outputs": [],
   "source": [
    "df_point['closest_road_id'] = df_point.apply(lambda row: find_closest_road(row['geometry'], df_road), axis=1)"
   ]
  },
  {
   "cell_type": "code",
   "execution_count": 75,
   "id": "5b954cb8",
   "metadata": {},
   "outputs": [],
   "source": [
    "df_point.drop('Closest_Road_ID', axis=1, inplace=True)"
   ]
  },
  {
   "cell_type": "code",
   "execution_count": 76,
   "id": "16597f63",
   "metadata": {},
   "outputs": [
    {
     "data": {
      "text/html": [
       "<div>\n",
       "<style scoped>\n",
       "    .dataframe tbody tr th:only-of-type {\n",
       "        vertical-align: middle;\n",
       "    }\n",
       "\n",
       "    .dataframe tbody tr th {\n",
       "        vertical-align: top;\n",
       "    }\n",
       "\n",
       "    .dataframe thead th {\n",
       "        text-align: right;\n",
       "    }\n",
       "</style>\n",
       "<table border=\"1\" class=\"dataframe\">\n",
       "  <thead>\n",
       "    <tr style=\"text-align: right;\">\n",
       "      <th></th>\n",
       "      <th>id</th>\n",
       "      <th>geometry</th>\n",
       "      <th>closest_road_id</th>\n",
       "    </tr>\n",
       "  </thead>\n",
       "  <tbody>\n",
       "    <tr>\n",
       "      <th>0</th>\n",
       "      <td>0</td>\n",
       "      <td>POINT (-74.00698 40.74748)</td>\n",
       "      <td>119</td>\n",
       "    </tr>\n",
       "    <tr>\n",
       "      <th>1</th>\n",
       "      <td>1</td>\n",
       "      <td>POINT (-74.00722 40.74722)</td>\n",
       "      <td>119</td>\n",
       "    </tr>\n",
       "    <tr>\n",
       "      <th>2</th>\n",
       "      <td>2</td>\n",
       "      <td>POINT (-74.00721 40.74697)</td>\n",
       "      <td>120</td>\n",
       "    </tr>\n",
       "    <tr>\n",
       "      <th>3</th>\n",
       "      <td>3</td>\n",
       "      <td>POINT (-74.00722 40.74722)</td>\n",
       "      <td>119</td>\n",
       "    </tr>\n",
       "    <tr>\n",
       "      <th>4</th>\n",
       "      <td>4</td>\n",
       "      <td>POINT (-74.00728 40.74667)</td>\n",
       "      <td>120</td>\n",
       "    </tr>\n",
       "    <tr>\n",
       "      <th>...</th>\n",
       "      <td>...</td>\n",
       "      <td>...</td>\n",
       "      <td>...</td>\n",
       "    </tr>\n",
       "    <tr>\n",
       "      <th>2295</th>\n",
       "      <td>2295</td>\n",
       "      <td>POINT (-73.97976 40.71559)</td>\n",
       "      <td>234</td>\n",
       "    </tr>\n",
       "    <tr>\n",
       "      <th>2296</th>\n",
       "      <td>2296</td>\n",
       "      <td>POINT (-73.97987 40.71361)</td>\n",
       "      <td>30</td>\n",
       "    </tr>\n",
       "    <tr>\n",
       "      <th>2297</th>\n",
       "      <td>2297</td>\n",
       "      <td>POINT (-73.98387 40.72077)</td>\n",
       "      <td>221</td>\n",
       "    </tr>\n",
       "    <tr>\n",
       "      <th>2298</th>\n",
       "      <td>2298</td>\n",
       "      <td>POINT (-73.97780 40.71833)</td>\n",
       "      <td>199</td>\n",
       "    </tr>\n",
       "    <tr>\n",
       "      <th>2299</th>\n",
       "      <td>2299</td>\n",
       "      <td>POINT (-73.99446 40.72987)</td>\n",
       "      <td>187</td>\n",
       "    </tr>\n",
       "  </tbody>\n",
       "</table>\n",
       "<p>2300 rows × 3 columns</p>\n",
       "</div>"
      ],
      "text/plain": [
       "        id                    geometry  closest_road_id\n",
       "0        0  POINT (-74.00698 40.74748)              119\n",
       "1        1  POINT (-74.00722 40.74722)              119\n",
       "2        2  POINT (-74.00721 40.74697)              120\n",
       "3        3  POINT (-74.00722 40.74722)              119\n",
       "4        4  POINT (-74.00728 40.74667)              120\n",
       "...    ...                         ...              ...\n",
       "2295  2295  POINT (-73.97976 40.71559)              234\n",
       "2296  2296  POINT (-73.97987 40.71361)               30\n",
       "2297  2297  POINT (-73.98387 40.72077)              221\n",
       "2298  2298  POINT (-73.97780 40.71833)              199\n",
       "2299  2299  POINT (-73.99446 40.72987)              187\n",
       "\n",
       "[2300 rows x 3 columns]"
      ]
     },
     "execution_count": 76,
     "metadata": {},
     "output_type": "execute_result"
    }
   ],
   "source": [
    "df_point"
   ]
  },
  {
   "cell_type": "code",
   "execution_count": null,
   "id": "f68112c7",
   "metadata": {},
   "outputs": [],
   "source": []
  }
 ],
 "metadata": {
  "kernelspec": {
   "display_name": "Python 3 (ipykernel)",
   "language": "python",
   "name": "python3"
  },
  "language_info": {
   "codemirror_mode": {
    "name": "ipython",
    "version": 3
   },
   "file_extension": ".py",
   "mimetype": "text/x-python",
   "name": "python",
   "nbconvert_exporter": "python",
   "pygments_lexer": "ipython3",
   "version": "3.9.1"
  }
 },
 "nbformat": 4,
 "nbformat_minor": 5
}
