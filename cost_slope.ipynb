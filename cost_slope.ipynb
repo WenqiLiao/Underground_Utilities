def costSlope(hydrant_i, hydrant_j)
  rise = hydrant_j.elevationID - hydrant_i.elevationID
  run = hydrant_j.distance(hydrant_i)
  slope = rise/run
  if slope < 0:
    return 1
  return slope / x 
