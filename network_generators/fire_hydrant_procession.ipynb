{
 "cells": [
  {
   "cell_type": "code",
   "execution_count": 1,
   "id": "90b88759",
   "metadata": {},
   "outputs": [],
   "source": [
    "import cv2\n",
    "import numpy as np"
   ]
  },
  {
   "cell_type": "code",
   "execution_count": 2,
   "id": "d2a418ff",
   "metadata": {},
   "outputs": [],
   "source": [
    "img = cv2.imread('hydrant_full_graph.jpg', cv2.IMREAD_COLOR)"
   ]
  },
  {
   "cell_type": "code",
   "execution_count": 3,
   "id": "58be1f84",
   "metadata": {},
   "outputs": [],
   "source": [
    "gray = cv2.cvtColor(img, cv2.COLOR_BGR2GRAY)"
   ]
  },
  {
   "cell_type": "code",
   "execution_count": 4,
   "id": "b36f1aa7",
   "metadata": {},
   "outputs": [],
   "source": [
    "gray_blurred = cv2.blur(gray, (3, 3))"
   ]
  },
  {
   "cell_type": "code",
   "execution_count": 5,
   "id": "e2df66bc",
   "metadata": {},
   "outputs": [],
   "source": [
    "detected_circles = cv2.HoughCircles(gray_blurred, \n",
    "                   cv2.HOUGH_GRADIENT, 1, 30, param1 = 25,\n",
    "               param2 = 15, minRadius = 8, maxRadius = 10)"
   ]
  },
  {
   "cell_type": "code",
   "execution_count": null,
   "id": "7886c402",
   "metadata": {},
   "outputs": [],
   "source": [
    "if detected_circles is not None:\n",
    "  \n",
    "    # Convert the circle parameters a, b and r to integers.\n",
    "    detected_circles = np.uint16(np.around(detected_circles))\n",
    "    \n",
    "     # Create a blank image layer with transparent background\n",
    "    height, width = img.shape[:2]\n",
    "    circle_layer = np.zeros((height, width, 4), dtype=np.uint8)\n",
    "    circle_layer[:, :, 3] = 0  # Set alpha channel to 0 (fully transparent)\n",
    "  \n",
    "    for pt in detected_circles[0, :]:\n",
    "        a, b, r = pt[0], pt[1], pt[2]\n",
    "  \n",
    "        # Draw a small circle on the circle_layer\n",
    "        cv2.circle(circle_layer, (a, b), r, (0, 255, 0, 255), 2)\n",
    "        \n",
    "    _, encoded_image = cv2.imencode('.png', circle_layer, [cv2.IMWRITE_PNG_COMPRESSION, 0])\n",
    "    # Save the encoded image to a file\n",
    "    with open(\"circle_layer_outline.png\", \"wb\") as file:\n",
    "        file.write(encoded_image)\n",
    "    cv2.imshow(\"Circle Layer\", circle_layer)\n",
    "    cv2.waitKey(0)"
   ]
  },
  {
   "cell_type": "markdown",
   "id": "ed5c918d",
   "metadata": {},
   "source": [
    "---------------------line-----------------------"
   ]
  },
  {
   "cell_type": "code",
   "execution_count": null,
   "id": "3907d52a",
   "metadata": {},
   "outputs": [],
   "source": [
    "import cv2\n",
    "import numpy as np\n",
    "\n",
    "img = cv2.imread('tophat_image.jpg', cv2.IMREAD_COLOR)\n",
    "gray = cv2.cvtColor(img, cv2.COLOR_BGR2GRAY)\n",
    "edges = cv2.Canny(gray, 60, 150, apertureSize=3)\n",
    "\n",
    "lines = cv2.HoughLinesP(edges, rho=1.2, theta=np.pi/180, threshold=100, minLineLength=20, maxLineGap=10)\n",
    "\n",
    "if lines is not None:\n",
    "    line_layer = np.zeros_like(img)\n",
    "    for line in lines:\n",
    "        x1, y1, x2, y2 = line[0]\n",
    "        cv2.line(line_layer, (x1, y1), (x2, y2), (0, 255, 0), 2)\n",
    "\n",
    "    result = cv2.addWeighted(img, 1, line_layer, 0.5, 0)\n",
    "\n",
    "    cv2.imshow(\"Result\", result)\n",
    "    cv2.waitKey(0)"
   ]
  },
  {
   "cell_type": "code",
   "execution_count": null,
   "id": "a4c87f4b",
   "metadata": {},
   "outputs": [],
   "source": []
  }
 ],
 "metadata": {
  "kernelspec": {
   "display_name": "Python 3 (ipykernel)",
   "language": "python",
   "name": "python3"
  },
  "language_info": {
   "codemirror_mode": {
    "name": "ipython",
    "version": 3
   },
   "file_extension": ".py",
   "mimetype": "text/x-python",
   "name": "python",
   "nbconvert_exporter": "python",
   "pygments_lexer": "ipython3",
   "version": "3.9.1"
  }
 },
 "nbformat": 4,
 "nbformat_minor": 5
}
